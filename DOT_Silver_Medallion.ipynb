{
 "cells": [
  {
   "cell_type": "code",
   "execution_count": 0,
   "metadata": {
    "application/vnd.databricks.v1+cell": {
     "cellMetadata": {
      "byteLimit": 2048000,
      "rowLimit": 10000
     },
     "inputWidgets": {},
     "nuid": "3d4ba51c-6249-466d-9703-b01a80c19819",
     "showTitle": false,
     "tableResultSettingsMap": {},
     "title": ""
    }
   },
   "outputs": [],
   "source": [
    "-- Check raw values\n",
    "SELECT DISTINCT DATA_AS_OF FROM ambulance_project.ambulance_data.t_dot LIMIT 10;\n",
    "\n",
    "SELECT DATA_AS_OF,\n",
    "       TRY_TO_TIMESTAMP(\n",
    "         DATA_AS_OF,\n",
    "         'MM/dd/yyyy hh:mm:ss a'\n",
    "       ) AS parsed\n",
    "FROM ambulance_project.ambulance_data.t_dot\n",
    "LIMIT 10;\n"
   ]
  },
  {
   "cell_type": "markdown",
   "metadata": {
    "application/vnd.databricks.v1+cell": {
     "cellMetadata": {},
     "inputWidgets": {},
     "nuid": "9335528e-17f0-48ba-8e29-dd0f15d83224",
     "showTitle": false,
     "tableResultSettingsMap": {},
     "title": ""
    }
   },
   "source": [
    "# 1) TYPE CAST + TIMESTAMP PARSE "
   ]
  },
  {
   "cell_type": "markdown",
   "metadata": {
    "application/vnd.databricks.v1+cell": {
     "cellMetadata": {},
     "inputWidgets": {},
     "nuid": "c6aa4724-5ad3-4a32-b460-032c53e6fa61",
     "showTitle": false,
     "tableResultSettingsMap": {},
     "title": ""
    }
   },
   "source": [
    " Reason: enforce stable types; handle multiple time formats; keep raw fields for audit/debug."
   ]
  },
  {
   "cell_type": "code",
   "execution_count": 0,
   "metadata": {
    "application/vnd.databricks.v1+cell": {
     "cellMetadata": {
      "byteLimit": 2048000,
      "rowLimit": 10000
     },
     "inputWidgets": {},
     "nuid": "c3a5f0f8-76c8-424e-9230-79119dd7eaa9",
     "showTitle": false,
     "tableResultSettingsMap": {},
     "title": ""
    }
   },
   "outputs": [],
   "source": [
    "CREATE OR REPLACE TEMP VIEW dot_stage_type AS\n",
    "SELECT\n",
    "  -- Numeric identifiers\n",
    "  CAST(ID          AS BIGINT)  AS id,\n",
    "  CAST(LINK_ID     AS BIGINT)  AS link_id,\n",
    "  CAST(TRANSCOM_ID AS BIGINT)  AS transcom_id,\n",
    "\n",
    "  -- Metrics (keep values as-is in silver; no filtering here)\n",
    "  CAST(SPEED       AS DOUBLE)  AS speed,\n",
    "  CAST(TRAVEL_TIME AS BIGINT)  AS travel_time,\n",
    "  CAST(STATUS      AS INT)     AS status,\n",
    "\n",
    "  -- Timestamp parsing: prefer slash format; fallback to wordy if present\n",
    "  COALESCE(\n",
    "    to_timestamp(DATA_AS_OF, 'MM/dd/yyyy hh:mm:ss a'),\n",
    "    to_timestamp(DATA_AS_OF, 'yyyy MMM dd hh:mm:ss a')\n",
    "  ) AS data_as_of,\n",
    "\n",
    "  -- Text normalization\n",
    "  INITCAP(TRIM(BOROUGH))  AS borough,\n",
    "  TRIM(LINK_NAME)         AS link_name,\n",
    "  UPPER(TRIM(OWNER))      AS owner,\n",
    "\n",
    "  -- Geometry text preserved for later parsing in the clean layer\n",
    "  TRIM(LINK_POINTS)            AS link_points,\n",
    "  TRIM(ENCODED_POLY_LINE)      AS encoded_polyline,\n",
    "  TRIM(ENCODED_POLY_LINE_LVLS) AS encoded_polyline_lvls,\n",
    "\n",
    "  -- Keep raw time for audit/debug\n",
    "  DATA_AS_OF AS data_as_of_raw\n",
    "FROM ambulance_project.ambulance_data.t_dot;\n"
   ]
  },
  {
   "cell_type": "code",
   "execution_count": 0,
   "metadata": {
    "application/vnd.databricks.v1+cell": {
     "cellMetadata": {
      "byteLimit": 2048000,
      "rowLimit": 10000
     },
     "inputWidgets": {},
     "nuid": "867b3327-68d0-40b2-b952-024d13f2a9a4",
     "showTitle": false,
     "tableResultSettingsMap": {},
     "title": ""
    }
   },
   "outputs": [],
   "source": [
    "-- Count how many timestamps parsed successfully\n",
    "SELECT \n",
    "  COUNT(*) AS total_rows,\n",
    "  SUM(CASE WHEN data_as_of IS NULL THEN 1 ELSE 0 END) AS null_parsed_timestamps\n",
    "FROM dot_stage_type;\n",
    "\n",
    "-- Inspect a sample of parsed timestamps\n",
    "SELECT data_as_of_raw, data_as_of\n",
    "FROM dot_stage_type\n",
    "LIMIT 10;\n"
   ]
  },
  {
   "cell_type": "markdown",
   "metadata": {
    "application/vnd.databricks.v1+cell": {
     "cellMetadata": {},
     "inputWidgets": {},
     "nuid": "655289ad-b759-45af-8281-446f8e72b07a",
     "showTitle": false,
     "tableResultSettingsMap": {},
     "title": ""
    }
   },
   "source": [
    "# 2) TEXT NORMALIZATION + GEOMETRY STRING HOUSEKEEPING"
   ]
  },
  {
   "cell_type": "markdown",
   "metadata": {
    "application/vnd.databricks.v1+cell": {
     "cellMetadata": {},
     "inputWidgets": {},
     "nuid": "7faec482-275c-473e-be3d-4be7090e680f",
     "showTitle": false,
     "tableResultSettingsMap": {},
     "title": ""
    }
   },
   "source": [
    "Reason: collapse whitespace; trim trailing commas/spaces; keep encoded polylines intact for future use if needed."
   ]
  },
  {
   "cell_type": "code",
   "execution_count": 0,
   "metadata": {
    "application/vnd.databricks.v1+cell": {
     "cellMetadata": {
      "byteLimit": 2048000,
      "rowLimit": 10000
     },
     "inputWidgets": {},
     "nuid": "3ac81ab3-8697-4b20-bc57-5e751f72f750",
     "showTitle": false,
     "tableResultSettingsMap": {},
     "title": ""
    }
   },
   "outputs": [],
   "source": [
    "\n",
    "-- Normalize text fields (trim, casing) + clean geometry strings\n",
    "\n",
    "CREATE OR REPLACE TEMP VIEW dot_stage_text AS\n",
    "SELECT\n",
    "  id,\n",
    "  link_id,\n",
    "  transcom_id,\n",
    "  speed,\n",
    "  travel_time,\n",
    "  status,\n",
    "  data_as_of_raw,\n",
    "  data_as_of,\n",
    "\n",
    "  -- Normalize text\n",
    "  INITCAP(TRIM(borough)) AS borough,\n",
    "  TRIM(link_name)        AS link_name,\n",
    "  UPPER(TRIM(owner))     AS owner,\n",
    "\n",
    "  -- Normalize geometry strings (leave parsing for gold/clean layer)\n",
    "  -- collapse excessive whitespace, trim trailing commas/spaces\n",
    "  regexp_replace(\n",
    "    regexp_replace(TRIM(link_points), '\\\\s+', ' '),\n",
    "    '[,\\\\s]+$', ''\n",
    "  ) AS link_points,\n",
    "  TRIM(encoded_polyline)      AS encoded_polyline,\n",
    "  TRIM(encoded_polyline_lvls) AS encoded_polyline_lvls\n",
    "FROM dot_stage_type;\n"
   ]
  },
  {
   "cell_type": "code",
   "execution_count": 0,
   "metadata": {
    "application/vnd.databricks.v1+cell": {
     "cellMetadata": {
      "byteLimit": 2048000,
      "rowLimit": 10000
     },
     "inputWidgets": {},
     "nuid": "ef181517-4ca9-4633-9e84-676b654516d4",
     "showTitle": false,
     "tableResultSettingsMap": {},
     "title": ""
    }
   },
   "outputs": [],
   "source": [
    "-- Check distinct borough values after normalization\n",
    "SELECT borough, COUNT(*) AS n\n",
    "FROM dot_stage_text\n",
    "GROUP BY borough\n",
    "ORDER BY n DESC;\n",
    "\n",
    "-- Verify whitespace cleanup took effect\n",
    "SELECT s.link_points, t.link_points\n",
    "FROM dot_stage_type t\n",
    "JOIN dot_stage_text s ON t.id = s.id AND t.link_id = s.link_id\n",
    "LIMIT 10;"
   ]
  },
  {
   "cell_type": "markdown",
   "metadata": {
    "application/vnd.databricks.v1+cell": {
     "cellMetadata": {},
     "inputWidgets": {},
     "nuid": "1b053457-3a62-4d94-98c7-39174bd47ffa",
     "showTitle": false,
     "tableResultSettingsMap": {},
     "title": ""
    }
   },
   "source": [
    "# 3) QA FLAGS (SOFT SANITY)"
   ]
  },
  {
   "cell_type": "markdown",
   "metadata": {
    "application/vnd.databricks.v1+cell": {
     "cellMetadata": {},
     "inputWidgets": {},
     "nuid": "81182830-eb51-4cad-aa14-93a2030d73f1",
     "showTitle": false,
     "tableResultSettingsMap": {},
     "title": ""
    }
   },
   "source": [
    "Reason: keep all rows (no drops). Flags help dashboards/alerts."
   ]
  },
  {
   "cell_type": "code",
   "execution_count": 0,
   "metadata": {
    "application/vnd.databricks.v1+cell": {
     "cellMetadata": {
      "byteLimit": 2048000,
      "rowLimit": 10000
     },
     "inputWidgets": {},
     "nuid": "0c7e23d8-df08-49c8-8d83-a0415f99e814",
     "showTitle": false,
     "tableResultSettingsMap": {},
     "title": ""
    }
   },
   "outputs": [],
   "source": [
    "-- Soft sanity on numeric fields\n",
    "\n",
    "CREATE OR REPLACE TEMP VIEW dot_stage_qaflags AS\n",
    "SELECT\n",
    "  *,\n",
    "  CASE WHEN speed       IS NULL OR speed < 0          THEN 1 ELSE 0 END AS flag_speed_suspect,\n",
    "  CASE WHEN travel_time IS NULL OR travel_time < 0    THEN 1 ELSE 0 END AS flag_travel_time_suspect,\n",
    "  CASE WHEN status      IS NOT NULL AND status < 0    THEN 1 ELSE 0 END AS flag_status_negative,\n",
    "  CASE WHEN data_as_of IS NULL                        THEN 1 ELSE 0 END AS flag_ts_unparsed\n",
    "FROM dot_stage_text;\n"
   ]
  },
  {
   "cell_type": "code",
   "execution_count": 0,
   "metadata": {
    "application/vnd.databricks.v1+cell": {
     "cellMetadata": {
      "byteLimit": 2048000,
      "rowLimit": 10000
     },
     "inputWidgets": {},
     "nuid": "acfa02ad-97f2-4265-be9c-c3d150db5ec5",
     "showTitle": false,
     "tableResultSettingsMap": {},
     "title": ""
    }
   },
   "outputs": [],
   "source": [
    "\n",
    "\n",
    "SELECT\n",
    "  SUM(flag_speed_suspect)       AS n_speed_suspect,\n",
    "  SUM(flag_travel_time_suspect) AS n_travel_time_suspect,\n",
    "  SUM(flag_status_negative)     AS n_status_negative,\n",
    "  SUM(flag_ts_unparsed)         AS n_ts_unparsed\n",
    "FROM dot_stage_qaflags;\n"
   ]
  },
  {
   "cell_type": "code",
   "execution_count": 0,
   "metadata": {
    "application/vnd.databricks.v1+cell": {
     "cellMetadata": {
      "byteLimit": 2048000,
      "rowLimit": 10000
     },
     "inputWidgets": {},
     "nuid": "d63fa86a-1fb0-4f91-b199-12f98485cda9",
     "showTitle": false,
     "tableResultSettingsMap": {},
     "title": ""
    }
   },
   "outputs": [],
   "source": [
    "\n",
    "\n",
    "SELECT\n",
    "  SUM(flag_speed_suspect)       AS n_speed_suspect,\n",
    "  SUM(flag_travel_time_suspect) AS n_travel_time_suspect,\n",
    "  SUM(flag_status_negative)     AS n_status_negative,\n",
    "  SUM(flag_ts_unparsed)         AS n_ts_unparsed\n",
    "FROM dot_stage_qaflags;\n"
   ]
  },
  {
   "cell_type": "markdown",
   "metadata": {
    "application/vnd.databricks.v1+cell": {
     "cellMetadata": {},
     "inputWidgets": {},
     "nuid": "18ae8609-7bc0-4c05-a322-3dc37f1a762d",
     "showTitle": false,
     "tableResultSettingsMap": {},
     "title": ""
    }
   },
   "source": [
    "# 4) MATERIALIZE LOSSLESS SILVER"
   ]
  },
  {
   "cell_type": "markdown",
   "metadata": {
    "application/vnd.databricks.v1+cell": {
     "cellMetadata": {},
     "inputWidgets": {},
     "nuid": "82d085cf-18e8-4bc6-9224-f0731cfc4b3d",
     "showTitle": false,
     "tableResultSettingsMap": {},
     "title": ""
    }
   },
   "source": [
    "Reason: audit-friendly, no destructive filtering."
   ]
  },
  {
   "cell_type": "code",
   "execution_count": 0,
   "metadata": {
    "application/vnd.databricks.v1+cell": {
     "cellMetadata": {
      "byteLimit": 2048000,
      "rowLimit": 10000
     },
     "inputWidgets": {},
     "nuid": "54702f98-0dfa-4c80-90cd-830997cff8d2",
     "showTitle": false,
     "tableResultSettingsMap": {},
     "title": ""
    }
   },
   "outputs": [],
   "source": [
    "\n",
    "--- Materialize dot_silver (no drops)\n",
    "\n",
    "\n",
    "CREATE OR REPLACE TABLE ambulance_project.ambulance_data.dot_silver AS\n",
    "SELECT\n",
    "  id,\n",
    "  link_id,\n",
    "  transcom_id,\n",
    "  speed,\n",
    "  travel_time,\n",
    "  status,\n",
    "  data_as_of,        -- parsed timestamp\n",
    "  data_as_of_raw,    -- keep raw string for audit\n",
    "\n",
    "  borough,\n",
    "  link_name,\n",
    "  owner,\n",
    "\n",
    "  link_points,\n",
    "  encoded_polyline,\n",
    "  encoded_polyline_lvls,\n",
    "\n",
    "  -- QA flags carried forward (handy in dashboards/alerts)\n",
    "  flag_speed_suspect,\n",
    "  flag_travel_time_suspect,\n",
    "  flag_status_negative,\n",
    "  flag_ts_unparsed\n",
    "FROM dot_stage_qaflags;"
   ]
  },
  {
   "cell_type": "code",
   "execution_count": 0,
   "metadata": {
    "application/vnd.databricks.v1+cell": {
     "cellMetadata": {
      "byteLimit": 2048000,
      "rowLimit": 10000
     },
     "inputWidgets": {},
     "nuid": "f02308a8-04b8-4160-8037-a7d176d005c5",
     "showTitle": false,
     "tableResultSettingsMap": {},
     "title": ""
    }
   },
   "outputs": [],
   "source": [
    "SELECT \n",
    "  (SELECT COUNT(*) FROM ambulance_project.ambulance_data.t_dot)        AS raw_rows,\n",
    "  (SELECT COUNT(*) FROM ambulance_project.ambulance_data.dot_silver) AS silver_rows;\n",
    "\n",
    "-- Quick glance at the final table\n",
    "SELECT * \n",
    "FROM ambulance_project.ambulance_data.dot_silver\n",
    "LIMIT 10;\n",
    "\n",
    "-- Null/flag overview in silver\n",
    "SELECT\n",
    "  SUM(CASE WHEN speed       IS NULL THEN 1 ELSE 0 END) AS null_speed,\n",
    "  SUM(CASE WHEN travel_time IS NULL THEN 1 ELSE 0 END) AS null_travel_time,\n",
    "  SUM(CASE WHEN data_as_of  IS NULL THEN 1 ELSE 0 END) AS null_parsed_ts,\n",
    "  SUM(flag_speed_suspect)       AS n_speed_suspect,\n",
    "  SUM(flag_travel_time_suspect) AS n_travel_time_suspect,\n",
    "  SUM(flag_status_negative)     AS n_status_negative,\n",
    "  SUM(flag_ts_unparsed)         AS n_ts_unparsed\n",
    "FROM ambulance_project.ambulance_data.dot_silver;"
   ]
  },
  {
   "cell_type": "markdown",
   "metadata": {
    "application/vnd.databricks.v1+cell": {
     "cellMetadata": {},
     "inputWidgets": {},
     "nuid": "c19f94b5-e92c-4faf-84c3-44dc3d5caad0",
     "showTitle": false,
     "tableResultSettingsMap": {},
     "title": ""
    }
   },
   "source": [
    "# 5) DEDUPLICATE (SAME link_id + data_as_of) → KEEP LATEST id"
   ]
  },
  {
   "cell_type": "markdown",
   "metadata": {
    "application/vnd.databricks.v1+cell": {
     "cellMetadata": {},
     "inputWidgets": {},
     "nuid": "66c3fdf8-cd18-4708-a4cf-f4aa2917a0a0",
     "showTitle": false,
     "tableResultSettingsMap": {},
     "title": ""
    }
   },
   "source": [
    "Reason: DOT feeds often resend same timestamp; dedup prevents double counting and improves training integrity."
   ]
  },
  {
   "cell_type": "code",
   "execution_count": 0,
   "metadata": {
    "application/vnd.databricks.v1+cell": {
     "cellMetadata": {
      "byteLimit": 2048000,
      "rowLimit": 10000
     },
     "inputWidgets": {},
     "nuid": "24efce40-66b3-4bf7-a4d1-7978e50bda7e",
     "showTitle": false,
     "tableResultSettingsMap": {},
     "title": ""
    }
   },
   "outputs": [],
   "source": [
    "\n",
    "-- Deduplicate exact timestamp per link\n",
    "\n",
    "CREATE OR REPLACE TEMP VIEW dot_silver_dedup AS\n",
    "WITH ranked AS (\n",
    "  SELECT *,\n",
    "         ROW_NUMBER() OVER (PARTITION BY link_id, data_as_of ORDER BY id DESC) AS rn\n",
    "  FROM ambulance_project.ambulance_data.dot_silver\n",
    ")\n",
    "SELECT * FROM ranked WHERE rn = 1;\n"
   ]
  },
  {
   "cell_type": "code",
   "execution_count": 0,
   "metadata": {
    "application/vnd.databricks.v1+cell": {
     "cellMetadata": {
      "byteLimit": 2048000,
      "rowLimit": 10000
     },
     "inputWidgets": {},
     "nuid": "bd987585-7c98-4004-91e6-a799392e7910",
     "showTitle": false,
     "tableResultSettingsMap": {},
     "title": ""
    }
   },
   "outputs": [],
   "source": [
    "SELECT COUNT(*) AS dup_pairs\n",
    "FROM (\n",
    "  SELECT link_id, data_as_of, COUNT(*) c\n",
    "  FROM ambulance_project.ambulance_data.dot_silver\n",
    "  GROUP BY 1,2\n",
    "  HAVING COUNT(*) > 1\n",
    ");\n"
   ]
  },
  {
   "cell_type": "markdown",
   "metadata": {
    "application/vnd.databricks.v1+cell": {
     "cellMetadata": {},
     "inputWidgets": {},
     "nuid": "4865eff7-e2b1-406b-aa27-f99724389085",
     "showTitle": false,
     "tableResultSettingsMap": {},
     "title": ""
    }
   },
   "source": [
    "# 6) ROBUST OUTLIER TRIM (per link_id using Median ± 5*MAD)"
   ]
  },
  {
   "cell_type": "markdown",
   "metadata": {
    "application/vnd.databricks.v1+cell": {
     "cellMetadata": {},
     "inputWidgets": {},
     "nuid": "966cd41e-c7da-4737-9d33-3a5d1782a592",
     "showTitle": false,
     "tableResultSettingsMap": {},
     "title": ""
    }
   },
   "source": [
    "Reason: remove sensor spikes without killing true congestion."
   ]
  },
  {
   "cell_type": "code",
   "execution_count": 0,
   "metadata": {
    "application/vnd.databricks.v1+cell": {
     "cellMetadata": {
      "byteLimit": 2048000,
      "rowLimit": 10000
     },
     "inputWidgets": {},
     "nuid": "776c0ff1-2b48-47ba-8241-c08b01a1b889",
     "showTitle": false,
     "tableResultSettingsMap": {},
     "title": ""
    }
   },
   "outputs": [],
   "source": [
    "-- Compute per-link median\n",
    "CREATE OR REPLACE TEMP VIEW dot_link_median AS\n",
    "SELECT\n",
    "  link_id,\n",
    "  percentile_approx(speed, 0.5) AS med_speed\n",
    "FROM dot_silver_dedup\n",
    "WHERE speed IS NOT NULL AND speed >= 0 AND speed <= 120\n",
    "GROUP BY link_id;\n",
    "\n",
    "-- Compute per-link MAD using the median from step 1\n",
    "CREATE OR REPLACE TEMP VIEW dot_link_stats AS\n",
    "SELECT\n",
    "  d.link_id,\n",
    "  m.med_speed,\n",
    "  percentile_approx(ABS(d.speed - m.med_speed), 0.5) AS mad_speed\n",
    "FROM dot_silver_dedup d\n",
    "JOIN dot_link_median m ON d.link_id = m.link_id\n",
    "WHERE d.speed IS NOT NULL AND d.speed >= 0 AND d.speed <= 120\n",
    "GROUP BY d.link_id, m.med_speed;\n",
    "\n",
    "-- Trim outliers using the robust stats\n",
    "CREATE OR REPLACE TEMP VIEW dot_trim AS\n",
    "SELECT\n",
    "  d.*,\n",
    "  s.med_speed,\n",
    "  s.mad_speed,\n",
    "  CASE\n",
    "    WHEN d.speed IS NULL THEN NULL\n",
    "    WHEN d.speed < 0 OR d.speed > 120 THEN NULL\n",
    "    WHEN s.mad_speed IS NULL OR s.mad_speed = 0 THEN d.speed\n",
    "    WHEN d.speed BETWEEN (s.med_speed - 5 * s.mad_speed) AND (s.med_speed + 5 * s.mad_speed)\n",
    "      THEN d.speed\n",
    "    ELSE NULL\n",
    "  END AS speed_trim\n",
    "FROM dot_silver_dedup d\n",
    "LEFT JOIN dot_link_stats s ON d.link_id = s.link_id;"
   ]
  },
  {
   "cell_type": "code",
   "execution_count": 0,
   "metadata": {
    "application/vnd.databricks.v1+cell": {
     "cellMetadata": {
      "byteLimit": 2048000,
      "rowLimit": 10000
     },
     "inputWidgets": {},
     "nuid": "4ef006ab-7c5b-46ef-af51-6bc26334302c",
     "showTitle": false,
     "tableResultSettingsMap": {},
     "title": ""
    }
   },
   "outputs": [],
   "source": [
    "SELECT \n",
    "  COUNT(*) AS n_all,\n",
    "  SUM(CAST((speed_trim IS NULL AND speed IS NOT NULL) AS INT)) AS n_trimmed_as_outliers\n",
    "FROM dot_trim;\n"
   ]
  },
  {
   "cell_type": "markdown",
   "metadata": {
    "application/vnd.databricks.v1+cell": {
     "cellMetadata": {},
     "inputWidgets": {},
     "nuid": "bf37227e-702f-43b9-beea-1925c5401b35",
     "showTitle": false,
     "tableResultSettingsMap": {},
     "title": ""
    }
   },
   "source": [
    "# 7) LOCAL IMPUTATION (±30m rolling median per link)"
   ]
  },
  {
   "cell_type": "markdown",
   "metadata": {
    "application/vnd.databricks.v1+cell": {
     "cellMetadata": {},
     "inputWidgets": {},
     "nuid": "d94fddd8-714d-4264-b1e7-916254eff887",
     "showTitle": false,
     "tableResultSettingsMap": {},
     "title": ""
    }
   },
   "source": [
    "Reason: preserve continuity for time-series models; short gaps often due to brief sensor dropouts."
   ]
  },
  {
   "cell_type": "code",
   "execution_count": 0,
   "metadata": {
    "application/vnd.databricks.v1+cell": {
     "cellMetadata": {
      "byteLimit": 2048000,
      "rowLimit": 10000
     },
     "inputWidgets": {},
     "nuid": "c8d3f65d-d325-4712-a9b7-2eecb1fe0f15",
     "showTitle": false,
     "tableResultSettingsMap": {},
     "title": ""
    }
   },
   "outputs": [],
   "source": [
    "-- Local imputation (±30 min rolling median per link)\n",
    "\n",
    "CREATE OR REPLACE TEMP VIEW dot_impute AS\n",
    "WITH base AS (\n",
    "  SELECT *,\n",
    "         percentile_approx(speed_trim, 0.5)\n",
    "           OVER (PARTITION BY link_id\n",
    "                 ORDER BY data_as_of\n",
    "                 RANGE BETWEEN INTERVAL 30 MINUTES PRECEDING AND INTERVAL 30 MINUTES FOLLOWING)\n",
    "         AS med_60m\n",
    "  FROM dot_trim\n",
    ")\n",
    "SELECT\n",
    "  id, link_id, transcom_id,\n",
    "  COALESCE(speed_trim, med_60m, med_speed) AS speed_filled,\n",
    "  travel_time, status,\n",
    "  data_as_of, data_as_of_raw,\n",
    "  borough, link_name, owner,\n",
    "  link_points, encoded_polyline, encoded_polyline_lvls,\n",
    "  flag_speed_suspect, flag_travel_time_suspect, flag_status_negative, flag_ts_unparsed\n",
    "FROM base;\n"
   ]
  },
  {
   "cell_type": "code",
   "execution_count": 0,
   "metadata": {
    "application/vnd.databricks.v1+cell": {
     "cellMetadata": {
      "byteLimit": 2048000,
      "rowLimit": 10000
     },
     "inputWidgets": {},
     "nuid": "8fe9f564-98ed-493c-982f-e241634406ef",
     "showTitle": false,
     "tableResultSettingsMap": {},
     "title": ""
    }
   },
   "outputs": [],
   "source": [
    "SELECT COUNT(CASE WHEN speed_filled IS NULL THEN 1 END) AS still_null_speed FROM dot_impute;\n"
   ]
  },
  {
   "cell_type": "markdown",
   "metadata": {
    "application/vnd.databricks.v1+cell": {
     "cellMetadata": {},
     "inputWidgets": {},
     "nuid": "93ea44e9-0897-4018-82ca-93d393a80a9b",
     "showTitle": false,
     "tableResultSettingsMap": {},
     "title": ""
    }
   },
   "source": [
    "# 8) TIME FEATURES"
   ]
  },
  {
   "cell_type": "markdown",
   "metadata": {
    "application/vnd.databricks.v1+cell": {
     "cellMetadata": {},
     "inputWidgets": {},
     "nuid": "539c28c9-efd2-43b3-ad28-6ac3136b245d",
     "showTitle": false,
     "tableResultSettingsMap": {},
     "title": ""
    }
   },
   "source": [
    " Reason: weekday/peak patterns are high-signal covariates."
   ]
  },
  {
   "cell_type": "code",
   "execution_count": 0,
   "metadata": {
    "application/vnd.databricks.v1+cell": {
     "cellMetadata": {
      "byteLimit": 2048000,
      "rowLimit": 10000
     },
     "inputWidgets": {},
     "nuid": "6193c32d-ef31-4980-96dd-89868fd7c6ef",
     "showTitle": false,
     "tableResultSettingsMap": {},
     "title": ""
    }
   },
   "outputs": [],
   "source": [
    "-- Time features \n",
    "\n",
    "CREATE OR REPLACE TEMP VIEW dot_time AS\n",
    "SELECT\n",
    "  *,\n",
    "  DATE(data_as_of)                 AS dte,\n",
    "  HOUR(data_as_of)                 AS hr,\n",
    "  MINUTE(data_as_of)               AS min,\n",
    "  DAYOFWEEK(data_as_of)            AS dow,        -- 1=Sun..7=Sat (Spark)\n",
    "  CASE WHEN DAYOFWEEK(data_as_of) BETWEEN 2 AND 6 THEN 1 ELSE 0 END AS is_weekday,\n",
    "  CASE WHEN (HOUR(data_as_of) BETWEEN 7 AND 10) OR (HOUR(data_as_of) BETWEEN 16 AND 19) THEN 1 ELSE 0 END AS is_peak\n",
    "FROM dot_impute;\n"
   ]
  },
  {
   "cell_type": "markdown",
   "metadata": {
    "application/vnd.databricks.v1+cell": {
     "cellMetadata": {},
     "inputWidgets": {},
     "nuid": "17296d85-8fd1-4f33-a450-27e452e48511",
     "showTitle": false,
     "tableResultSettingsMap": {},
     "title": ""
    }
   },
   "source": [
    "# 9) GEOMETRY CLEAN (robust; final regex filter)"
   ]
  },
  {
   "cell_type": "markdown",
   "metadata": {
    "application/vnd.databricks.v1+cell": {
     "cellMetadata": {},
     "inputWidgets": {},
     "nuid": "1be75ca7-29dd-4090-ba13-7d881f61ed59",
     "showTitle": false,
     "tableResultSettingsMap": {},
     "title": ""
    }
   },
   "source": [
    "Reason: handle glued tokens, stray quotes, orphan lats, and out-of-bounds coordinates. Output start_lat/lon for joins."
   ]
  },
  {
   "cell_type": "code",
   "execution_count": 0,
   "metadata": {
    "application/vnd.databricks.v1+cell": {
     "cellMetadata": {
      "byteLimit": 2048000,
      "rowLimit": 10000
     },
     "inputWidgets": {},
     "nuid": "790e0770-cd5e-4950-8a01-185237f47d1a",
     "showTitle": false,
     "tableResultSettingsMap": {},
     "title": ""
    }
   },
   "outputs": [],
   "source": [
    "CREATE OR REPLACE TEMP VIEW dot_geom_clean AS\n",
    "WITH norm AS (\n",
    "  SELECT\n",
    "    link_id, data_as_of, link_points,\n",
    "    -- strip surrounding quotes; collapse whitespace\n",
    "    regexp_replace(regexp_replace(link_points, '^\"|\"$', ''), '\\\\s+', ' ') AS lp0\n",
    "  FROM dot_time\n",
    "),\n",
    "patched AS (\n",
    "  SELECT\n",
    "    link_id, data_as_of,\n",
    "    -- if a lon is glued to next lat \"40.x/41.x\", inject a space\n",
    "    regexp_replace(lp0, '(\\\\d)(?=4[01]\\\\.\\\\d)', '\\\\1 ') AS lp1\n",
    "  FROM norm\n",
    "),\n",
    "parsed AS (\n",
    "  SELECT\n",
    "    link_id, data_as_of,\n",
    "    -- regex-extract lat,lon per token; non-matching tokens → NULLs\n",
    "    transform(\n",
    "      split(lp1, ' '),\n",
    "      p -> struct(\n",
    "        TRY_CAST(regexp_extract(p, '(-?\\\\d+\\\\.?\\\\d*),(-?\\\\d+\\\\.?\\\\d*)', 1) AS DOUBLE) AS lat,\n",
    "        TRY_CAST(regexp_extract(p, '(-?\\\\d+\\\\.?\\\\d*),(-?\\\\d+\\\\.?\\\\d*)', 2) AS DOUBLE) AS lon\n",
    "      )\n",
    "    ) AS pts_all\n",
    "  FROM patched\n",
    "),\n",
    "filtered AS (\n",
    "  SELECT\n",
    "    link_id, data_as_of,\n",
    "    -- keep only valid, in-bounds coords (NYC-ish bbox)\n",
    "    filter(\n",
    "      pts_all,\n",
    "      x -> x.lat IS NOT NULL AND x.lon IS NOT NULL\n",
    "           AND x.lat BETWEEN 40.4 AND 41.1\n",
    "           AND x.lon BETWEEN -74.5 AND -73.5\n",
    "    ) AS pts\n",
    "  FROM parsed\n",
    "),\n",
    "rebuilt AS (\n",
    "  SELECT\n",
    "    link_id,\n",
    "    data_as_of,\n",
    "    size(pts) AS n_valid_points,\n",
    "    element_at(pts, 1).lat AS start_lat,\n",
    "    element_at(pts, 1).lon AS start_lon,\n",
    "    transform(pts, x -> concat(CAST(x.lat AS STRING), ',', CAST(x.lon AS STRING))) AS str_pts\n",
    "  FROM filtered\n",
    "),\n",
    "joined AS (\n",
    "  SELECT\n",
    "    link_id,\n",
    "    data_as_of,\n",
    "    n_valid_points,\n",
    "    start_lat, start_lon,\n",
    "    trim(array_join(str_pts, ' ')) AS link_points_joined\n",
    "  FROM rebuilt\n",
    ")\n",
    "SELECT\n",
    "  link_id,\n",
    "  data_as_of,\n",
    "  -- Final regex: sequence of \"lat,lon\" tokens separated by single spaces\n",
    "  CASE\n",
    "    WHEN link_points_joined RLIKE '^(-?\\\\d+\\\\.?\\\\d*,-?\\\\d+\\\\.?\\\\d*)( (-?\\\\d+\\\\.?\\\\d*,-?\\\\d+\\\\.?\\\\d*))*$'\n",
    "      THEN link_points_joined\n",
    "    ELSE ''\n",
    "  END AS link_points_clean,\n",
    "  start_lat, start_lon,\n",
    "  n_valid_points,\n",
    "  CASE WHEN n_valid_points = 0 OR link_points_joined = '' THEN 1 ELSE 0 END AS flag_no_valid_points,\n",
    "  0 AS flag_has_quotes\n",
    "FROM joined;\n"
   ]
  },
  {
   "cell_type": "markdown",
   "metadata": {
    "application/vnd.databricks.v1+cell": {
     "cellMetadata": {},
     "inputWidgets": {},
     "nuid": "88408f79-dbea-4452-8092-75e31ad660e2",
     "showTitle": false,
     "tableResultSettingsMap": {},
     "title": ""
    }
   },
   "source": [
    "# 10) PUBLISH FEATURE‑READY SILVER (with geometry)"
   ]
  },
  {
   "cell_type": "markdown",
   "metadata": {
    "application/vnd.databricks.v1+cell": {
     "cellMetadata": {},
     "inputWidgets": {},
     "nuid": "8d6b2c47-b79d-43dc-aa0e-be79d294aca8",
     "showTitle": false,
     "tableResultSettingsMap": {},
     "title": ""
    }
   },
   "source": [
    "Reason: one table ready for modeling + spatial joins."
   ]
  },
  {
   "cell_type": "code",
   "execution_count": 0,
   "metadata": {
    "application/vnd.databricks.v1+cell": {
     "cellMetadata": {
      "byteLimit": 2048000,
      "rowLimit": 10000
     },
     "inputWidgets": {},
     "nuid": "5fd27f70-8da6-4db8-ade5-d783129cd3e7",
     "showTitle": false,
     "tableResultSettingsMap": {},
     "title": ""
    }
   },
   "outputs": [],
   "source": [
    "CREATE OR REPLACE TABLE ambulance_project.ambulance_data.dot_silver_features AS\n",
    "SELECT\n",
    "  t.link_id,\n",
    "  t.data_as_of,\n",
    "  -- canonical speed (imputed/trimmed)\n",
    "  t.speed_filled AS speed_mph,\n",
    "  t.travel_time,\n",
    "  t.status,\n",
    "\n",
    "  -- dimensions\n",
    "  t.borough, t.link_name, t.owner,\n",
    "\n",
    "  -- time features\n",
    "  t.dte, t.hr, t.min, t.dow, t.is_weekday, t.is_peak,\n",
    "\n",
    "  -- convenient categorical bin for GBMs/monitoring\n",
    "  CASE \n",
    "    WHEN t.speed_filled IS NULL THEN NULL\n",
    "    WHEN t.speed_filled < 5  THEN 'vslow'\n",
    "    WHEN t.speed_filled < 15 THEN 'slow'\n",
    "    WHEN t.speed_filled < 30 THEN 'moderate'\n",
    "    WHEN t.speed_filled < 45 THEN 'fast'\n",
    "    ELSE 'vfast'\n",
    "  END AS speed_bin,\n",
    "\n",
    "  -- geometry (clean)\n",
    "  g.link_points_clean AS link_points,\n",
    "  g.start_lat, g.start_lon,\n",
    "  g.n_valid_points,\n",
    "  g.flag_no_valid_points,\n",
    "  g.flag_has_quotes,\n",
    "\n",
    "  -- original QA flags (for diagnostics)\n",
    "  t.flag_speed_suspect, t.flag_travel_time_suspect, t.flag_status_negative, t.flag_ts_unparsed\n",
    "FROM dot_time t\n",
    "LEFT JOIN dot_geom_clean g\n",
    "  USING (link_id, data_as_of);\n",
    "\n",
    "-- Storage/scan optimization for common access paths\n",
    "OPTIMIZE ambulance_project.ambulance_data.dot_silver_features\n",
    "ZORDER BY (link_id, data_as_of);"
   ]
  },
  {
   "cell_type": "markdown",
   "metadata": {
    "application/vnd.databricks.v1+cell": {
     "cellMetadata": {},
     "inputWidgets": {},
     "nuid": "3eca34b4-bd77-4197-845a-fd39f3f537ff",
     "showTitle": false,
     "tableResultSettingsMap": {},
     "title": ""
    }
   },
   "source": [
    "# FINAL CHECK: Display cleaned DOT Silver Features\n",
    "# "
   ]
  },
  {
   "cell_type": "code",
   "execution_count": 0,
   "metadata": {
    "application/vnd.databricks.v1+cell": {
     "cellMetadata": {
      "byteLimit": 2048000,
      "rowLimit": 10000
     },
     "inputWidgets": {},
     "nuid": "15e3ef47-6539-48c0-b8e0-a87132641a68",
     "showTitle": false,
     "tableResultSettingsMap": {},
     "title": ""
    }
   },
   "outputs": [],
   "source": [
    "SELECT *\n",
    "FROM ambulance_project.ambulance_data.dot_silver_features\n",
    "ORDER BY data_as_of DESC\n",
    "LIMIT 20;"
   ]
  },
  {
   "cell_type": "markdown",
   "metadata": {
    "application/vnd.databricks.v1+cell": {
     "cellMetadata": {},
     "inputWidgets": {},
     "nuid": "d39fa2e7-6e6b-496a-aed1-43298f29a8de",
     "showTitle": false,
     "tableResultSettingsMap": {},
     "title": ""
    }
   },
   "source": []
  },
  {
   "cell_type": "code",
   "execution_count": 0,
   "metadata": {
    "application/vnd.databricks.v1+cell": {
     "cellMetadata": {},
     "inputWidgets": {},
     "nuid": "b7774496-ed2c-4ddb-9da2-b7460f1ba5e9",
     "showTitle": false,
     "tableResultSettingsMap": {},
     "title": ""
    }
   },
   "outputs": [],
   "source": []
  },
  {
   "cell_type": "code",
   "execution_count": 0,
   "metadata": {
    "application/vnd.databricks.v1+cell": {
     "cellMetadata": {},
     "inputWidgets": {},
     "nuid": "1a919c45-78d9-4ec3-b9fe-3c7d4804162a",
     "showTitle": false,
     "tableResultSettingsMap": {},
     "title": ""
    }
   },
   "outputs": [],
   "source": []
  },
  {
   "cell_type": "code",
   "execution_count": 0,
   "metadata": {
    "application/vnd.databricks.v1+cell": {
     "cellMetadata": {},
     "inputWidgets": {},
     "nuid": "8a3094ce-f30c-4e59-a6d6-38065f1d150c",
     "showTitle": false,
     "tableResultSettingsMap": {},
     "title": ""
    }
   },
   "outputs": [],
   "source": []
  },
  {
   "cell_type": "code",
   "execution_count": 0,
   "metadata": {
    "application/vnd.databricks.v1+cell": {
     "cellMetadata": {},
     "inputWidgets": {},
     "nuid": "801fa482-4ba0-4a4d-a24d-76d762c83272",
     "showTitle": false,
     "tableResultSettingsMap": {},
     "title": ""
    }
   },
   "outputs": [],
   "source": []
  },
  {
   "cell_type": "code",
   "execution_count": 0,
   "metadata": {
    "application/vnd.databricks.v1+cell": {
     "cellMetadata": {},
     "inputWidgets": {},
     "nuid": "66565ac1-64ff-4479-8113-b74002696a4f",
     "showTitle": false,
     "tableResultSettingsMap": {},
     "title": ""
    }
   },
   "outputs": [],
   "source": []
  },
  {
   "cell_type": "code",
   "execution_count": 0,
   "metadata": {
    "application/vnd.databricks.v1+cell": {
     "cellMetadata": {},
     "inputWidgets": {},
     "nuid": "c78f1876-827e-462a-ad8c-dc7b06ca53cf",
     "showTitle": false,
     "tableResultSettingsMap": {},
     "title": ""
    }
   },
   "outputs": [],
   "source": []
  },
  {
   "cell_type": "code",
   "execution_count": 0,
   "metadata": {
    "application/vnd.databricks.v1+cell": {
     "cellMetadata": {},
     "inputWidgets": {},
     "nuid": "4331a6ef-9ccd-4957-85f5-be60a16587eb",
     "showTitle": false,
     "tableResultSettingsMap": {},
     "title": ""
    }
   },
   "outputs": [],
   "source": []
  },
  {
   "cell_type": "code",
   "execution_count": 0,
   "metadata": {
    "application/vnd.databricks.v1+cell": {
     "cellMetadata": {},
     "inputWidgets": {},
     "nuid": "248aacab-70be-4032-a2c3-5569dcc12f4b",
     "showTitle": false,
     "tableResultSettingsMap": {},
     "title": ""
    }
   },
   "outputs": [],
   "source": []
  },
  {
   "cell_type": "code",
   "execution_count": 0,
   "metadata": {
    "application/vnd.databricks.v1+cell": {
     "cellMetadata": {},
     "inputWidgets": {},
     "nuid": "b183f74a-c6a0-44a0-8441-f038caf81e74",
     "showTitle": false,
     "tableResultSettingsMap": {},
     "title": ""
    }
   },
   "outputs": [],
   "source": []
  },
  {
   "cell_type": "code",
   "execution_count": 0,
   "metadata": {
    "application/vnd.databricks.v1+cell": {
     "cellMetadata": {},
     "inputWidgets": {},
     "nuid": "c0a7056e-8506-487e-b322-b615071039d6",
     "showTitle": false,
     "tableResultSettingsMap": {},
     "title": ""
    }
   },
   "outputs": [],
   "source": []
  },
  {
   "cell_type": "code",
   "execution_count": 0,
   "metadata": {
    "application/vnd.databricks.v1+cell": {
     "cellMetadata": {},
     "inputWidgets": {},
     "nuid": "51a6afb7-d545-4478-8ed3-399e7c1354cc",
     "showTitle": false,
     "tableResultSettingsMap": {},
     "title": ""
    }
   },
   "outputs": [],
   "source": []
  },
  {
   "cell_type": "code",
   "execution_count": 0,
   "metadata": {
    "application/vnd.databricks.v1+cell": {
     "cellMetadata": {},
     "inputWidgets": {},
     "nuid": "6129083e-1864-4597-8c36-63f1f27cfc1e",
     "showTitle": false,
     "tableResultSettingsMap": {},
     "title": ""
    }
   },
   "outputs": [],
   "source": []
  },
  {
   "cell_type": "code",
   "execution_count": 0,
   "metadata": {
    "application/vnd.databricks.v1+cell": {
     "cellMetadata": {},
     "inputWidgets": {},
     "nuid": "0fcc2f34-5c82-479a-bff9-9b660cdfe5ea",
     "showTitle": false,
     "tableResultSettingsMap": {},
     "title": ""
    }
   },
   "outputs": [],
   "source": []
  },
  {
   "cell_type": "code",
   "execution_count": 0,
   "metadata": {
    "application/vnd.databricks.v1+cell": {
     "cellMetadata": {},
     "inputWidgets": {},
     "nuid": "45312c20-6efc-4a1e-a6be-35fd4dd3d4f7",
     "showTitle": false,
     "tableResultSettingsMap": {},
     "title": ""
    }
   },
   "outputs": [],
   "source": []
  },
  {
   "cell_type": "code",
   "execution_count": 0,
   "metadata": {
    "application/vnd.databricks.v1+cell": {
     "cellMetadata": {},
     "inputWidgets": {},
     "nuid": "4512a433-d77c-4b9c-96f2-66f28fcc8465",
     "showTitle": false,
     "tableResultSettingsMap": {},
     "title": ""
    }
   },
   "outputs": [],
   "source": []
  },
  {
   "cell_type": "code",
   "execution_count": 0,
   "metadata": {
    "application/vnd.databricks.v1+cell": {
     "cellMetadata": {},
     "inputWidgets": {},
     "nuid": "afa3defb-acea-4eb7-b72d-b30040050d59",
     "showTitle": false,
     "tableResultSettingsMap": {},
     "title": ""
    }
   },
   "outputs": [],
   "source": []
  },
  {
   "cell_type": "code",
   "execution_count": 0,
   "metadata": {
    "application/vnd.databricks.v1+cell": {
     "cellMetadata": {},
     "inputWidgets": {},
     "nuid": "42e3fa7c-2668-471e-9821-5034ef1a02b8",
     "showTitle": false,
     "tableResultSettingsMap": {},
     "title": ""
    }
   },
   "outputs": [],
   "source": []
  },
  {
   "cell_type": "code",
   "execution_count": 0,
   "metadata": {
    "application/vnd.databricks.v1+cell": {
     "cellMetadata": {},
     "inputWidgets": {},
     "nuid": "6b02a785-c795-4168-a69e-831001620e5c",
     "showTitle": false,
     "tableResultSettingsMap": {},
     "title": ""
    }
   },
   "outputs": [],
   "source": []
  },
  {
   "cell_type": "code",
   "execution_count": 0,
   "metadata": {
    "application/vnd.databricks.v1+cell": {
     "cellMetadata": {},
     "inputWidgets": {},
     "nuid": "612e78df-bea8-499b-9ce6-225d2e9ff65f",
     "showTitle": false,
     "tableResultSettingsMap": {},
     "title": ""
    }
   },
   "outputs": [],
   "source": []
  }
 ],
 "metadata": {
  "application/vnd.databricks.v1+notebook": {
   "computePreferences": null,
   "dashboards": [],
   "environmentMetadata": {
    "base_environment": "",
    "environment_version": "3"
   },
   "inputWidgetPreferences": null,
   "language": "sql",
   "notebookMetadata": {
    "pythonIndentUnit": 4
   },
   "notebookName": "DOT_Silver_Medallion",
   "widgets": {}
  },
  "language_info": {
   "name": "sql"
  }
 },
 "nbformat": 4,
 "nbformat_minor": 0
}
