{
 "cells": [
  {
   "cell_type": "code",
   "execution_count": 0,
   "metadata": {
    "application/vnd.databricks.v1+cell": {
     "cellMetadata": {
      "byteLimit": 2048000,
      "rowLimit": 10000
     },
     "inputWidgets": {},
     "nuid": "84603ed1-d813-416d-804e-cddf5847228b",
     "showTitle": false,
     "tableResultSettingsMap": {},
     "title": ""
    }
   },
   "outputs": [],
   "source": [
    "import zipfile\n",
    "import os\n",
    "\n",
    "# Path where the ZIP was uploaded (replace with yours from upload cell)\n",
    "zip_path = \"/Volumes/ambulance_project/ambulance_data/raw_data/EMS_Incident_Dispatch_Data.csv.zip\"\n",
    "extract_path = \"/Volumes/ambulance_project/ambulance_data/raw_data\"\n",
    "\n",
    "os.makedirs(extract_path, exist_ok=True)\n",
    "\n",
    "with zipfile.ZipFile(zip_path, 'r') as zip_ref:\n",
    "    zip_ref.extractall(extract_path)\n",
    "\n",
    "print(\"Extracted to:\", extract_path)"
   ]
  },
  {
   "cell_type": "code",
   "execution_count": 0,
   "metadata": {
    "application/vnd.databricks.v1+cell": {
     "cellMetadata": {
      "byteLimit": 2048000,
      "rowLimit": 10000
     },
     "inputWidgets": {},
     "nuid": "e21befc0-cecd-4ce2-911b-b0dfdfdc9776",
     "showTitle": false,
     "tableResultSettingsMap": {},
     "title": ""
    }
   },
   "outputs": [],
   "source": [
    "# Replace file names with the exact names you have\n",
    "nta_path = \"/Volumes/ambulance_project/ambulance_data/raw_data/NTAs_Neighborhood_Tabulation_Areas.csv\"\n",
    "dot_path = \"/Volumes/ambulance_project/ambulance_data/raw_data/DOT_Traffic_Speeds_NBE_20250807.csv\"\n",
    "ems_path = \"/Volumes/ambulance_project/ambulance_data/raw_data/EMS_Incident_Dispatch_Data.csv\"\n",
    "\n",
    "nta_df = spark.read.format(\"csv\").option(\"header\", \"true\").load(nta_path)\n",
    "dot_df = spark.read.format(\"csv\").option(\"header\", \"true\").load(dot_path)\n",
    "ems_df = spark.read.format(\"csv\").option(\"header\", \"true\").load(ems_path)\n",
    "\n",
    "# Register as SQL views\n",
    "nta_df.createOrReplaceTempView(\"nta\")\n",
    "dot_df.createOrReplaceTempView(\"dot\")\n",
    "ems_df.createOrReplaceTempView(\"ems\")"
   ]
  },
  {
   "cell_type": "code",
   "execution_count": 0,
   "metadata": {
    "application/vnd.databricks.v1+cell": {
     "cellMetadata": {
      "byteLimit": 2048000,
      "rowLimit": 10000
     },
     "inputWidgets": {},
     "nuid": "6e182f18-e400-452e-8418-2d196417609f",
     "showTitle": false,
     "tableResultSettingsMap": {},
     "title": ""
    }
   },
   "outputs": [],
   "source": [
    "nta_df.head()"
   ]
  },
  {
   "cell_type": "code",
   "execution_count": 0,
   "metadata": {
    "application/vnd.databricks.v1+cell": {
     "cellMetadata": {
      "byteLimit": 2048000,
      "rowLimit": 10000
     },
     "inputWidgets": {},
     "nuid": "69b64fc3-9ecd-4279-a2c6-cb3776116d60",
     "showTitle": false,
     "tableResultSettingsMap": {},
     "title": ""
    }
   },
   "outputs": [],
   "source": [
    "dot_df.head()"
   ]
  },
  {
   "cell_type": "code",
   "execution_count": 0,
   "metadata": {
    "application/vnd.databricks.v1+cell": {
     "cellMetadata": {
      "byteLimit": 2048000,
      "rowLimit": 10000
     },
     "inputWidgets": {},
     "nuid": "74778981-b4b9-4294-8e9f-24d95038c4cd",
     "showTitle": false,
     "tableResultSettingsMap": {},
     "title": ""
    }
   },
   "outputs": [],
   "source": [
    "ems_df.head()"
   ]
  },
  {
   "cell_type": "code",
   "execution_count": 0,
   "metadata": {
    "application/vnd.databricks.v1+cell": {
     "cellMetadata": {
      "byteLimit": 2048000,
      "rowLimit": 10000
     },
     "inputWidgets": {},
     "nuid": "03cf6a8b-a907-420e-8c8a-aec23b97d5ec",
     "showTitle": false,
     "tableResultSettingsMap": {},
     "title": ""
    }
   },
   "outputs": [],
   "source": [
    "# View schema (column names + types)\n",
    "nta_df.printSchema()\n",
    "dot_df.printSchema()\n",
    "ems_df.printSchema()"
   ]
  },
  {
   "cell_type": "code",
   "execution_count": 0,
   "metadata": {
    "application/vnd.databricks.v1+cell": {
     "cellMetadata": {
      "byteLimit": 2048000,
      "rowLimit": 10000
     },
     "inputWidgets": {},
     "nuid": "4074ce4e-8b3c-4580-86db-d85f3b1803c9",
     "showTitle": false,
     "tableResultSettingsMap": {},
     "title": ""
    }
   },
   "outputs": [],
   "source": [
    "# Count rows\n",
    "print(\"NTA rows count:\", nta_df.count())\n",
    "print(\"DOT rows count:\", dot_df.count())\n",
    "print(\"EMS rows count:\", ems_df.count())"
   ]
  },
  {
   "cell_type": "markdown",
   "metadata": {
    "application/vnd.databricks.v1+cell": {
     "cellMetadata": {
      "byteLimit": 2048000,
      "rowLimit": 10000
     },
     "inputWidgets": {},
     "nuid": "3d82329c-f634-42f6-8079-35a447b1b398",
     "showTitle": false,
     "tableResultSettingsMap": {},
     "title": ""
    }
   },
   "source": [
    "DOT CLEANING"
   ]
  },
  {
   "cell_type": "code",
   "execution_count": 0,
   "metadata": {
    "application/vnd.databricks.v1+cell": {
     "cellMetadata": {
      "byteLimit": 2048000,
      "rowLimit": 10000
     },
     "inputWidgets": {},
     "nuid": "232e3cc7-0499-4156-9d62-fb05203b7fc0",
     "showTitle": false,
     "tableResultSettingsMap": {},
     "title": ""
    }
   },
   "outputs": [],
   "source": [
    "# from pyspark.sql import functions as F\n",
    "# from pyspark.sql.window import Window\n",
    "\n",
    "# dot_raw = spark.table(\"ambulance_project.ambulance_data.t_dot\")\n",
    "\n",
    "# # Keep the useful columns (others are not needed for prediction/joining)\n",
    "# keep_cols = [c for c in dot_raw.columns if c in {\n",
    "#     \"ID\",\"SPEED\",\"TRAVEL_TIME\",\"DATA_AS_OF\",\"LINK_ID\",\"LINK_POINTS\",\"BOROUGH\",\"LINK_NAME\"\n",
    "# }]\n",
    "# dot = dot_raw.select(*keep_cols)\n",
    "\n",
    "# dot = (\n",
    "#     dot\n",
    "#     .withColumn(\"dot_id\", F.col(\"ID\").cast(\"long\"))\n",
    "#     .withColumn(\"link_id\", F.col(\"LINK_ID\").cast(\"long\"))\n",
    "#     .withColumn(\"speed_mph\", F.col(\"SPEED\").cast(\"double\"))\n",
    "#     .withColumn(\"travel_time_sec\", F.col(\"TRAVEL_TIME\").cast(\"double\"))\n",
    "#     .withColumn(\"as_of_ts\", F.to_timestamp(F.col(\"DATA_AS_OF\"), \"MM/dd/yyyy hh:mm:ss a\"))\n",
    "#     .withColumn(\"borough\", F.upper(F.trim(F.col(\"BOROUGH\"))))\n",
    "#     .withColumn(\"link_points\", F.regexp_replace(F.trim(F.col(\"LINK_POINTS\")), r\"\\s+\", \" \"))  # normalize spaces\n",
    "# )\n",
    "\n",
    "# # ---- SAFE parsing of start/end coordinates from LINK_POINTS ----\n",
    "# # LINK_POINTS looks like: \"40.7081105,-73.99944 40.7084705,-73.99884 ...\"\n",
    "# points = F.split(F.col(\"link_points\"), \" \")\n",
    "\n",
    "# first_p = F.element_at(points, 1)          # 1-based; NULL-safe\n",
    "# last_p  = F.element_at(points, -1)         # last element; NULL-safe\n",
    "\n",
    "# first_split = F.split(first_p, \",\")\n",
    "# last_split  = F.split(last_p, \",\")\n",
    "\n",
    "# start_lat = F.element_at(first_split, 1).cast(\"double\")\n",
    "# start_lon = F.element_at(first_split, 2).cast(\"double\")\n",
    "# end_lat   = F.element_at(last_split, 1).cast(\"double\")\n",
    "# end_lon   = F.element_at(last_split, 2).cast(\"double\")\n",
    "\n",
    "# dot = dot.withColumn(\"start_lat\", start_lat)\\\n",
    "#          .withColumn(\"start_lon\", start_lon)\\\n",
    "#          .withColumn(\"end_lat\",   end_lat)\\\n",
    "#          .withColumn(\"end_lon\",   end_lon)\n",
    "\n",
    "# # Representative midpoint for spatial join / gridding\n",
    "# dot = dot.withColumn(\n",
    "#     \"mid_lat\",\n",
    "#     F.when(F.col(\"start_lat\").isNotNull() & F.col(\"end_lat\").isNotNull(),\n",
    "#            (F.col(\"start_lat\")+F.col(\"end_lat\"))/2.0).otherwise(F.col(\"start_lat\"))\n",
    "# ).withColumn(\n",
    "#     \"mid_lon\",\n",
    "#     F.when(F.col(\"start_lon\").isNotNull() & F.col(\"end_lon\").isNotNull(),\n",
    "#            (F.col(\"start_lon\")+F.col(\"end_lon\"))/2.0).otherwise(F.col(\"start_lon\"))\n",
    "# )\n",
    "\n",
    "# # Quality filters\n",
    "# dot = dot.filter((F.col(\"speed_mph\") >= 0) & (F.col(\"speed_mph\") <= 120))\\\n",
    "#          .filter(F.col(\"travel_time_sec\") >= 0)\n",
    "\n",
    "# # Keep latest record per link_id (DOT feeds are time-series by link)\n",
    "# w = Window.partitionBy(\"link_id\").orderBy(F.col(\"as_of_ts\").desc_nulls_last())\n",
    "# dot_latest = dot.withColumn(\"rn\", F.row_number().over(w)).filter(\"rn = 1\").drop(\"rn\",\"ID\",\"SPEED\",\"TRAVEL_TIME\",\"DATA_AS_OF\",\"LINK_POINTS\")\n",
    "\n",
    "# # Save a clean table\n",
    "# dot_latest.write.mode(\"overwrite\").saveAsTable(\"ambulance_project.ambulance_data.ct_dot\")\n",
    "\n",
    "# display(spark.table(\"ambulance_project.ambulance_data.ct_dot\").limit(10))\n"
   ]
  },
  {
   "cell_type": "code",
   "execution_count": 0,
   "metadata": {
    "application/vnd.databricks.v1+cell": {
     "cellMetadata": {
      "byteLimit": 2048000,
      "rowLimit": 10000
     },
     "inputWidgets": {},
     "nuid": "07db6492-0b5e-488c-9537-12733446b672",
     "showTitle": false,
     "tableResultSettingsMap": {},
     "title": ""
    }
   },
   "outputs": [],
   "source": [
    "dot_df.show(5)"
   ]
  },
  {
   "cell_type": "code",
   "execution_count": 0,
   "metadata": {
    "application/vnd.databricks.v1+cell": {
     "cellMetadata": {
      "byteLimit": 2048000,
      "rowLimit": 10000
     },
     "inputWidgets": {},
     "nuid": "6273a6c3-adc6-4170-ab90-c06a9458894a",
     "showTitle": false,
     "tableResultSettingsMap": {},
     "title": ""
    }
   },
   "outputs": [],
   "source": []
  }
 ],
 "metadata": {
  "application/vnd.databricks.v1+notebook": {
   "computePreferences": null,
   "dashboards": [],
   "environmentMetadata": {
    "base_environment": "",
    "environment_version": "2"
   },
   "inputWidgetPreferences": null,
   "language": "python",
   "notebookMetadata": {
    "pythonIndentUnit": 4
   },
   "notebookName": "Data-Preprocessing",
   "widgets": {}
  },
  "language_info": {
   "name": "python"
  }
 },
 "nbformat": 4,
 "nbformat_minor": 0
}
